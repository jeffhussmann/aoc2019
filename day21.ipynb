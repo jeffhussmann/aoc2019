{
 "cells": [
  {
   "cell_type": "code",
   "execution_count": null,
   "metadata": {},
   "outputs": [],
   "source": [
    "import intcode\n",
    "import sys"
   ]
  },
  {
   "cell_type": "code",
   "execution_count": null,
   "metadata": {},
   "outputs": [],
   "source": [
    "def print_output(p):\n",
    "    while not(p.output_queue.empty()):\n",
    "        c = p.output_queue.get()\n",
    "        try:\n",
    "            sys.stdout.write(chr(c))\n",
    "        except:\n",
    "            print(c)\n",
    "\n",
    "def provide_input(p, s):\n",
    "    for c in s:\n",
    "        p.input_queue.put(ord(c))\n",
    "        \n",
    "def run_jumpcode(jumpcode):\n",
    "    p = intcode.Program(instructions_source='day21.txt')\n",
    "    provide_input(p, jumpcode)\n",
    "    p.run(until_input_needed=True)\n",
    "    print_output(p)"
   ]
  },
  {
   "cell_type": "code",
   "execution_count": null,
   "metadata": {},
   "outputs": [],
   "source": [
    "jumpcode = '''NOT C T\n",
    "OR T J\n",
    "NOT B T\n",
    "OR T J\n",
    "NOT A T\n",
    "OR T J\n",
    "AND D J\n",
    "WALK\\n'''\n",
    "\n",
    "run_jumpcode(jumpcode)"
   ]
  },
  {
   "cell_type": "code",
   "execution_count": null,
   "metadata": {},
   "outputs": [],
   "source": [
    "jumpcode = '''NOT C T\n",
    "OR T J\n",
    "NOT B T\n",
    "OR T J\n",
    "NOT A T\n",
    "OR T J\n",
    "AND D J\n",
    "NOT H T\n",
    "NOT T T\n",
    "OR E T\n",
    "AND T J\n",
    "RUN\\n'''\n",
    "\n",
    "run_jumpcode(jumpcode)"
   ]
  }
 ],
 "metadata": {
  "kernelspec": {
   "display_name": "Python 3.6",
   "language": "python",
   "name": "python3.6"
  },
  "language_info": {
   "codemirror_mode": {
    "name": "ipython",
    "version": 3
   },
   "file_extension": ".py",
   "mimetype": "text/x-python",
   "name": "python",
   "nbconvert_exporter": "python",
   "pygments_lexer": "ipython3",
   "version": "3.6.9"
  }
 },
 "nbformat": 4,
 "nbformat_minor": 4
}
