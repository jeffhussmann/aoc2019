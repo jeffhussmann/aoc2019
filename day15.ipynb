{
 "cells": [
  {
   "cell_type": "code",
   "execution_count": null,
   "metadata": {},
   "outputs": [],
   "source": [
    "import sys\n",
    "from collections import deque\n",
    "import intcode"
   ]
  },
  {
   "cell_type": "code",
   "execution_count": null,
   "metadata": {},
   "outputs": [],
   "source": [
    "def draw_grid(grid):\n",
    "    xs = {int(c.real) for c in grid}\n",
    "    ys = {int(c.imag) for c in grid}\n",
    "    \n",
    "    for y in range(max(ys), min(ys) - 1, -1):\n",
    "        for x in range(min(xs), max(xs) + 1):\n",
    "            c = grid.get(complex(x, y), ' ')\n",
    "            sys.stdout.write(c)\n",
    "        sys.stdout.write('\\n')"
   ]
  },
  {
   "cell_type": "code",
   "execution_count": null,
   "metadata": {},
   "outputs": [],
   "source": [
    "inp_to_direction = {\n",
    "    1: 1j,\n",
    "    2: -1j,\n",
    "    3: -1,\n",
    "    4: 1,\n",
    "}"
   ]
  },
  {
   "cell_type": "code",
   "execution_count": null,
   "metadata": {},
   "outputs": [],
   "source": [
    "def add_neighbors(current_position, current_program):\n",
    "    for inp in range(1, 5):\n",
    "        next_position = current_position + inp_to_direction[inp]\n",
    "        if next_position not in grid:\n",
    "            clone = current_program.clone()\n",
    "            clone.input_queue.put(inp)\n",
    "            clone.run(until_input_needed=True)\n",
    "            output = clone.output_queue.get()\n",
    "            if output == 0:\n",
    "                grid[next_position] = '#'\n",
    "            else:\n",
    "                if output == 1:\n",
    "                    grid[next_position] = '.'\n",
    "                elif output == 2:\n",
    "                    grid[next_position] = 'o'\n",
    "                    \n",
    "                to_check.append((next_position, clone))"
   ]
  },
  {
   "cell_type": "code",
   "execution_count": null,
   "metadata": {},
   "outputs": [],
   "source": [
    "p = intcode.Program('day15.txt')\n",
    "grid = {}\n",
    "to_check = deque()\n",
    "\n",
    "add_neighbors(0j, p)\n",
    "\n",
    "while len(to_check) > 0:\n",
    "    current_position, current_program = to_check.popleft()\n",
    "    add_neighbors(current_position, current_program)"
   ]
  },
  {
   "cell_type": "code",
   "execution_count": null,
   "metadata": {},
   "outputs": [],
   "source": [
    "draw_grid(grid)"
   ]
  },
  {
   "cell_type": "code",
   "execution_count": null,
   "metadata": {},
   "outputs": [],
   "source": [
    "for p, v in grid.items():\n",
    "    if v == 'o':\n",
    "        oxygen_at = p\n",
    "        break"
   ]
  },
  {
   "cell_type": "code",
   "execution_count": null,
   "metadata": {},
   "outputs": [],
   "source": [
    "def distances_from(start, grid):\n",
    "    distances = {start: 0}\n",
    "    to_check = deque()\n",
    "\n",
    "    to_check.append(start)\n",
    "\n",
    "    while len(to_check) > 0:\n",
    "        position = to_check.popleft()\n",
    "        for direction in [1, -1, 1j, -1j]:\n",
    "            next_position = position + direction\n",
    "            next_distance = distances[position] + 1\n",
    "            if grid[next_position] != '#' and next_position not in distances:\n",
    "                distances[next_position] = next_distance\n",
    "                to_check.append(next_position)\n",
    "    return distances"
   ]
  },
  {
   "cell_type": "code",
   "execution_count": null,
   "metadata": {},
   "outputs": [],
   "source": [
    "distances_from(0j, grid)[oxygen_at]"
   ]
  },
  {
   "cell_type": "code",
   "execution_count": null,
   "metadata": {},
   "outputs": [],
   "source": [
    "max(distances_from(oxygen_at, grid).values())"
   ]
  }
 ],
 "metadata": {
  "kernelspec": {
   "display_name": "Python 3.6",
   "language": "python",
   "name": "python3.6"
  },
  "language_info": {
   "codemirror_mode": {
    "name": "ipython",
    "version": 3
   },
   "file_extension": ".py",
   "mimetype": "text/x-python",
   "name": "python",
   "nbconvert_exporter": "python",
   "pygments_lexer": "ipython3",
   "version": "3.6.9"
  }
 },
 "nbformat": 4,
 "nbformat_minor": 4
}
