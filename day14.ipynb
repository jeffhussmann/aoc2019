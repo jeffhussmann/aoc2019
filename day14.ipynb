{
 "cells": [
  {
   "cell_type": "code",
   "execution_count": null,
   "metadata": {},
   "outputs": [],
   "source": [
    "import re"
   ]
  },
  {
   "cell_type": "code",
   "execution_count": null,
   "metadata": {},
   "outputs": [],
   "source": [
    "def parse_components(s):\n",
    "    components = []\n",
    "    for count, name in re.findall('(\\d+) ([A-Z]+)', s):\n",
    "        components.append((name, int(count)))\n",
    "    return components"
   ]
  },
  {
   "cell_type": "code",
   "execution_count": null,
   "metadata": {},
   "outputs": [],
   "source": [
    "def get_requirements(final_chem, quant_needed, on_hand):\n",
    "    #print('asking for', final_chem, quant_needed, on_hand)\n",
    "    on_hand = on_hand.copy()\n",
    "    if final_chem == 'ORE':\n",
    "        total_ore_needed = quant_needed\n",
    "        on_hand['ORE'] += quant_needed\n",
    "        return on_hand, total_ore_needed\n",
    "    else:\n",
    "        quant_produced, inputs = recipes[final_chem]\n",
    "\n",
    "        recipe_multiple = int(np.ceil(quant_needed / quant_produced))\n",
    "        still_needed = {chem: quant * recipe_multiple for chem, quant in inputs}\n",
    "        for on_hand_chem, on_hand_quant in on_hand.items():\n",
    "            if on_hand_chem in still_needed:\n",
    "                quant_used = min(still_needed[on_hand_chem], on_hand[on_hand_chem])\n",
    "                still_needed[on_hand_chem] -= quant_used\n",
    "                on_hand[on_hand_chem] -= quant_used\n",
    "\n",
    "        total_ore_needed = 0\n",
    "\n",
    "        while True:\n",
    "            still_needed_nonzero = [c for c, q in still_needed.items() if q > 0]\n",
    "            if len(still_needed_nonzero) == 0:\n",
    "                break\n",
    "                \n",
    "            chem = still_needed_nonzero[0]\n",
    "            quant = still_needed[chem]\n",
    "            \n",
    "            on_hand, ore_needed = get_requirements(chem, quant, on_hand)\n",
    "            total_ore_needed += ore_needed\n",
    "            \n",
    "            for on_hand_chem, on_hand_quant in on_hand.items():\n",
    "                if on_hand_chem in still_needed:\n",
    "                    quant_used = min(still_needed[on_hand_chem], on_hand[on_hand_chem])\n",
    "                    still_needed[on_hand_chem] -= quant_used\n",
    "                    on_hand[on_hand_chem] -= quant_used\n",
    "            \n",
    "        on_hand[final_chem] += quant_produced * recipe_multiple\n",
    "    \n",
    "    return on_hand, total_ore_needed"
   ]
  },
  {
   "cell_type": "code",
   "execution_count": null,
   "metadata": {},
   "outputs": [],
   "source": [
    "lines = [line.strip() for line in open('day14.txt')]\n",
    "\n",
    "recipes = {}\n",
    "\n",
    "for line in lines:\n",
    "    inputs, outputs = line.split(' => ')\n",
    "    inputs = parse_components(inputs)\n",
    "    # always only one output type for a reaction, and always only one reaction that makes it\n",
    "    output_chem, output_quantity = parse_components(outputs)[0]\n",
    "    recipes[output_chem] = (output_quantity, inputs)\n",
    "    \n",
    "on_hand, total_ore_needed = get_requirements('FUEL', 1, defaultdict(int))\n",
    "total_ore_needed"
   ]
  },
  {
   "cell_type": "code",
   "execution_count": null,
   "metadata": {},
   "outputs": [],
   "source": [
    "np.log10(1000000000000)"
   ]
  },
  {
   "cell_type": "code",
   "execution_count": null,
   "metadata": {},
   "outputs": [],
   "source": [
    "possible(current)"
   ]
  },
  {
   "cell_type": "code",
   "execution_count": null,
   "metadata": {},
   "outputs": [],
   "source": [
    "max_possible = 1\n",
    "\n",
    "def possible(n_fuel):\n",
    "    on_hand = defaultdict(int)\n",
    "    on_hand['ORE'] = 1000000000000\n",
    "\n",
    "    on_hand, total_ore_needed = get_requirements('FUEL', n_fuel, on_hand)\n",
    "    return total_ore_needed == 0\n",
    "\n",
    "current = max_possible * 2\n",
    "while True:\n",
    "    print(current)\n",
    "    \n",
    "    if possible(current):\n",
    "        max_possible = current\n",
    "        current *= 2\n",
    "    else:\n",
    "        if current - max_possible == 1:\n",
    "            print('max', max_possible)\n",
    "            break\n",
    "        else:\n",
    "            current = max_possible + int((current - max_possible) / 2)"
   ]
  }
 ],
 "metadata": {
  "kernelspec": {
   "display_name": "Python 3.6",
   "language": "python",
   "name": "python3.6"
  },
  "language_info": {
   "codemirror_mode": {
    "name": "ipython",
    "version": 3
   },
   "file_extension": ".py",
   "mimetype": "text/x-python",
   "name": "python",
   "nbconvert_exporter": "python",
   "pygments_lexer": "ipython3",
   "version": "3.6.9"
  }
 },
 "nbformat": 4,
 "nbformat_minor": 4
}
