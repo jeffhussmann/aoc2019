{
 "cells": [
  {
   "cell_type": "code",
   "execution_count": null,
   "metadata": {},
   "outputs": [],
   "source": [
    "paths = [line.strip().split(',') for line in open('day3.txt')]"
   ]
  },
  {
   "cell_type": "code",
   "execution_count": null,
   "metadata": {},
   "outputs": [],
   "source": [
    "covered = defaultdict(dict)\n",
    "\n",
    "def take_steps(path_i, direction, distance):\n",
    "    global total_distance, current_x, current_y\n",
    "    \n",
    "    x_increment = 0\n",
    "    y_increment = 0\n",
    "    \n",
    "    if direction == 'R':\n",
    "        x_increment = 1\n",
    "    elif direction == 'L':\n",
    "        x_increment = -1\n",
    "    elif direction == 'U':\n",
    "        y_increment = 1\n",
    "    elif direction == 'D':\n",
    "        y_increment = -1\n",
    "\n",
    "    for i in range(distance):\n",
    "        current_x += x_increment\n",
    "        current_y += y_increment\n",
    "        total_distance += 1\n",
    "        if path_i not in covered[current_x, current_y]:\n",
    "            covered[current_x, current_y][path_i] = total_distance\n",
    "        \n",
    "for path_i, path in enumerate(paths):\n",
    "    current_x = 0\n",
    "    current_y = 0\n",
    "    total_distance = 0\n",
    "    \n",
    "    for step in path:\n",
    "        direction = step[0]\n",
    "        distance = int(step[1:])\n",
    "        take_steps(path_i, direction, distance)\n",
    "\n",
    "min_manhattan_d = np.inf\n",
    "min_path_d = np.inf\n",
    "\n",
    "for (x, y), covered_by in covered.items():\n",
    "    if len(covered_by) == 2:\n",
    "        manhattan_d = np.abs(x) + np.abs(y)\n",
    "        if manhattan_d <= min_manhattan_d:\n",
    "            min_manhattan_d = manhattan_d\n",
    "            \n",
    "        path_d = sum(covered_by.values())\n",
    "        if path_d <= min_path_d:\n",
    "            min_path_d = path_d"
   ]
  },
  {
   "cell_type": "code",
   "execution_count": null,
   "metadata": {},
   "outputs": [],
   "source": [
    "min_manhattan_d, min_path_d"
   ]
  }
 ],
 "metadata": {
  "kernelspec": {
   "display_name": "Python 3.6",
   "language": "python",
   "name": "python3.6"
  },
  "language_info": {
   "codemirror_mode": {
    "name": "ipython",
    "version": 3
   },
   "file_extension": ".py",
   "mimetype": "text/x-python",
   "name": "python",
   "nbconvert_exporter": "python",
   "pygments_lexer": "ipython3",
   "version": "3.6.9"
  }
 },
 "nbformat": 4,
 "nbformat_minor": 4
}
