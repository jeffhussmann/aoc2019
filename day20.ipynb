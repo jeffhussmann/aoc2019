{
 "cells": [
  {
   "cell_type": "code",
   "execution_count": null,
   "metadata": {},
   "outputs": [],
   "source": [
    "import sys\n",
    "from collections import deque"
   ]
  },
  {
   "cell_type": "code",
   "execution_count": null,
   "metadata": {},
   "outputs": [],
   "source": [
    "def load_grid(fn):\n",
    "    grid = {}\n",
    "    \n",
    "    with open(fn) as fh:\n",
    "        for row, line in enumerate(fh):\n",
    "            for col, c in enumerate(line.strip('\\n')):\n",
    "                grid[complex(col, row)] = c\n",
    "                \n",
    "    return grid"
   ]
  },
  {
   "cell_type": "code",
   "execution_count": null,
   "metadata": {},
   "outputs": [],
   "source": [
    "def draw_grid(grid):\n",
    "    max_x = max(int(p.real) for p in grid)\n",
    "    max_y = max(int(p.imag) for p in grid)\n",
    "    \n",
    "    for row in range(max_y + 1):\n",
    "        for col in range(max_x + 1):\n",
    "            sys.stdout.write(grid[complex(col, row)])\n",
    "        sys.stdout.write('\\n')"
   ]
  },
  {
   "cell_type": "code",
   "execution_count": null,
   "metadata": {},
   "outputs": [],
   "source": [
    "def find_portals(grid):\n",
    "    portals = defaultdict(list)\n",
    "    # portals will be k: tuples of (where will you arrive, where will you depart from)\n",
    "    for p, c in grid.items():\n",
    "        if c.isupper():\n",
    "            for d in [1, 1j]:\n",
    "                if p + d in grid and grid[p + d].isupper():\n",
    "                    second_c = grid[p + d]\n",
    "                    name = c + second_c\n",
    "                    if p + 2 * d in grid and grid[p + 2 * d] == '.':\n",
    "                        portals[name].append((p + 2 * d, p + d))\n",
    "                    if p - d in grid and grid[p - d] == '.':\n",
    "                        portals[name].append((p - d, p))\n",
    "                    \n",
    "    entrance = portals.pop('AA')[0][0]\n",
    "    exit = portals.pop('ZZ')[0][0]\n",
    "    \n",
    "    connections = {}\n",
    "    for name, endpoints in portals.items():\n",
    "        arrive_1, depart_1 = endpoints[0]\n",
    "        arrive_2, depart_2 = endpoints[1]\n",
    "        \n",
    "        connections[depart_1] = arrive_2\n",
    "        connections[depart_2] = arrive_1\n",
    "            \n",
    "    return entrance, exit, connections"
   ]
  },
  {
   "cell_type": "code",
   "execution_count": null,
   "metadata": {},
   "outputs": [],
   "source": [
    "def distances_from(start, grid, connections):\n",
    "    distances = {start: 0}\n",
    "    to_check = deque()\n",
    "\n",
    "    to_check.append(start)\n",
    "\n",
    "    while len(to_check) > 0:\n",
    "        position = to_check.popleft()\n",
    "        for direction in [1, -1, 1j, -1j]:\n",
    "            next_position = position + direction\n",
    "            next_position = connections.get(next_position, next_position)\n",
    "            \n",
    "            next_distance = distances[position] + 1\n",
    "            next_char = grid[next_position]\n",
    "            \n",
    "            if next_char == '.' and next_position not in distances:\n",
    "                distances[next_position] = next_distance\n",
    "                to_check.append(next_position)\n",
    "    \n",
    "    return distances"
   ]
  },
  {
   "cell_type": "code",
   "execution_count": null,
   "metadata": {},
   "outputs": [],
   "source": [
    "fn = 'day20.txt'\n",
    "\n",
    "g = load_grid(fn)\n",
    "\n",
    "entrance, exit, connections = find_portals(g)\n",
    "\n",
    "ds = distances_from(entrance, g, connections)\n",
    "\n",
    "print(ds[exit])"
   ]
  },
  {
   "cell_type": "code",
   "execution_count": null,
   "metadata": {},
   "outputs": [],
   "source": [
    "import heapq"
   ]
  },
  {
   "cell_type": "code",
   "execution_count": null,
   "metadata": {},
   "outputs": [],
   "source": [
    "def find_portals_part2(grid):\n",
    "    portals = []\n",
    "    # portals will be k: list of tuples (where will you arrive, inner or outer)\n",
    "    for p, c in grid.items():\n",
    "        if c.isupper():\n",
    "            for d in [1, 1j]:\n",
    "                if p + d in grid and grid[p + d].isupper():\n",
    "                    second_c = grid[p + d]\n",
    "                    name = c + second_c\n",
    "                    if p + 2 * d in grid and grid[p + 2 * d] == '.':\n",
    "                        if p - d in grid:\n",
    "                            kind = 'inner'\n",
    "                        else:\n",
    "                            kind = 'outer'\n",
    "                        portals.append((name, p + 2 * d, kind))\n",
    "                    if p - d in grid and grid[p - d] == '.':\n",
    "                        if p + 2 * d in grid:\n",
    "                            kind = 'inner'\n",
    "                        else:\n",
    "                            kind = 'outer'\n",
    "                        portals.append((name, p - d, kind))\n",
    "\n",
    "    p_to_name = {p: (name, kind) for name, p, kind in portals}\n",
    "    name_to_ps = defaultdict(dict)\n",
    "    for name, p, kind in portals:\n",
    "        name_to_ps[name][kind] = p\n",
    "            \n",
    "    return p_to_name, name_to_ps"
   ]
  },
  {
   "cell_type": "code",
   "execution_count": null,
   "metadata": {},
   "outputs": [],
   "source": [
    "def make_connections(grid):\n",
    "    p_to_name, name_to_p = find_portals_part2(grid)\n",
    "\n",
    "    connections = {}\n",
    "\n",
    "    for name in name_to_p:\n",
    "        for side in ['outer', 'inner']:\n",
    "            if side in name_to_p[name]:\n",
    "                starting_p = name_to_p[name][side]\n",
    "                connections[name, side] = [(p_to_name[p], d + 1) for p, d in distances_from(starting_p, grid, {}).items() if p in p_to_name and p != starting_p]\n",
    "                \n",
    "    return connections"
   ]
  },
  {
   "cell_type": "code",
   "execution_count": null,
   "metadata": {},
   "outputs": [],
   "source": [
    "def dijkstra(connections, p):\n",
    "    start = ('AA', 'outer', 0)\n",
    "    \n",
    "    distances = {start: 0}\n",
    "    \n",
    "    to_check = [(0, start)]\n",
    "\n",
    "    while len(to_check) > 0:\n",
    "        distance, (name, kind, level) = heapq.heappop(to_check)\n",
    "        \n",
    "        if (name, kind, level) == ('ZZ', 'inner', -1):\n",
    "            distances[name, kind, level] = distance - 1\n",
    "            break\n",
    "        else:\n",
    "            distances[name, kind, level] = distance\n",
    "            \n",
    "        for (next_name, connect_kind), distance_to in connections[name, kind]:\n",
    "            if next_name == 'AA':\n",
    "                continue\n",
    "                \n",
    "            if level == 0:\n",
    "                if connect_kind == 'outer' and next_name not in ['AA', 'ZZ']:\n",
    "                    continue\n",
    "            elif level > 0:\n",
    "                if connect_kind == 'outer' and next_name in ['AA', 'ZZ']:\n",
    "                    continue\n",
    "            \n",
    "            next_distance = distance + distance_to\n",
    "            \n",
    "            if connect_kind == 'outer':\n",
    "                next_level = level - 1\n",
    "                next_kind = 'inner'                \n",
    "            else:\n",
    "                next_level = level + 1\n",
    "                next_kind = 'outer'\n",
    "                \n",
    "            next_p = (next_name, next_kind, next_level)\n",
    "                \n",
    "            if next_p not in distances:\n",
    "                heapq.heappush(to_check, (next_distance, next_p))\n",
    "                \n",
    "    return distances"
   ]
  },
  {
   "cell_type": "code",
   "execution_count": null,
   "metadata": {},
   "outputs": [],
   "source": [
    "%%time\n",
    "\n",
    "fn = 'day20.txt'\n",
    "\n",
    "g = load_grid(fn)\n",
    "cs = make_connections(g)\n",
    "\n",
    "print(dijkstra(cs, p)[('ZZ', 'inner', -1)])"
   ]
  }
 ],
 "metadata": {
  "kernelspec": {
   "display_name": "Python 3.6",
   "language": "python",
   "name": "python3.6"
  },
  "language_info": {
   "codemirror_mode": {
    "name": "ipython",
    "version": 3
   },
   "file_extension": ".py",
   "mimetype": "text/x-python",
   "name": "python",
   "nbconvert_exporter": "python",
   "pygments_lexer": "ipython3",
   "version": "3.6.9"
  }
 },
 "nbformat": 4,
 "nbformat_minor": 4
}
