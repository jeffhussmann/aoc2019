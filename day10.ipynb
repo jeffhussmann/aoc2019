{
 "cells": [
  {
   "cell_type": "code",
   "execution_count": null,
   "metadata": {},
   "outputs": [],
   "source": [
    "input_fn = 'day10.txt'"
   ]
  },
  {
   "cell_type": "code",
   "execution_count": null,
   "metadata": {},
   "outputs": [],
   "source": [
    "asteroids = set()\n",
    "\n",
    "for y, line in enumerate(open(input_fn)):\n",
    "    for x, c in enumerate(list(line.strip())):\n",
    "        if c == '#':\n",
    "            asteroids.add((y, x))"
   ]
  },
  {
   "cell_type": "code",
   "execution_count": null,
   "metadata": {},
   "outputs": [],
   "source": [
    "def get_angle(laser_at, asteroid):\n",
    "    v = np.array(asteroid) - np.array(laser_at)\n",
    "    angle = (np.arctan2(*v) / np.pi + 0.5) % 2\n",
    "    return angle\n",
    "\n",
    "def get_distance(laser_at, asteroid):\n",
    "    v = np.array(asteroid) - np.array(laser_at)\n",
    "    return np.linalg.norm(v)"
   ]
  },
  {
   "cell_type": "code",
   "execution_count": null,
   "metadata": {},
   "outputs": [],
   "source": [
    "def get_asteroids_at_angle(laser_at):\n",
    "    asteroids_at_angle = defaultdict(list)\n",
    "    for asteroid in asteroids:\n",
    "        if asteroid != laser_at:\n",
    "            angle = get_angle(laser_at, asteroid)\n",
    "            asteroids_at_angle[angle].append(asteroid)\n",
    "\n",
    "    for angle in asteroids_at_angle:\n",
    "        asteroids_at_angle[angle] = sorted(asteroids_at_angle[angle], key=lambda asteroid: get_distance(laser_at, asteroid))\n",
    "        \n",
    "    return asteroids_at_angle"
   ]
  },
  {
   "cell_type": "code",
   "execution_count": null,
   "metadata": {},
   "outputs": [],
   "source": [
    "num_visible, best_location = max((len(get_asteroids_at_angle(asteroid)), asteroid) for asteroid in asteroids)"
   ]
  },
  {
   "cell_type": "code",
   "execution_count": null,
   "metadata": {},
   "outputs": [],
   "source": [
    "print(num_visible, best_location)"
   ]
  },
  {
   "cell_type": "code",
   "execution_count": null,
   "metadata": {},
   "outputs": [],
   "source": [
    "asteroids_at_angle = get_asteroids_at_angle(best_location)\n",
    "\n",
    "hits = []\n",
    "while len(asteroids_at_angle) > 0:\n",
    "    for angle in sorted(asteroids_at_angle):\n",
    "        next_hit = asteroids_at_angle[angle].pop(0)\n",
    "        hits.append(next_hit)\n",
    "        if len(asteroids_at_angle[angle]) == 0:\n",
    "            del asteroids_at_angle[angle]"
   ]
  },
  {
   "cell_type": "code",
   "execution_count": null,
   "metadata": {},
   "outputs": [],
   "source": [
    "y, x = hits[200 - 1]"
   ]
  },
  {
   "cell_type": "code",
   "execution_count": null,
   "metadata": {},
   "outputs": [],
   "source": [
    "100 * x + y"
   ]
  }
 ],
 "metadata": {
  "kernelspec": {
   "display_name": "Python 3.6",
   "language": "python",
   "name": "python3.6"
  },
  "language_info": {
   "codemirror_mode": {
    "name": "ipython",
    "version": 3
   },
   "file_extension": ".py",
   "mimetype": "text/x-python",
   "name": "python",
   "nbconvert_exporter": "python",
   "pygments_lexer": "ipython3",
   "version": "3.6.9"
  }
 },
 "nbformat": 4,
 "nbformat_minor": 4
}
