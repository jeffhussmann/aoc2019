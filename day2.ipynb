{
 "cells": [
  {
   "cell_type": "code",
   "execution_count": null,
   "metadata": {},
   "outputs": [],
   "source": [
    "def output(noun, verb):\n",
    "    instructions = [int(f) for f in open('day2.txt').read().strip().split(',')]\n",
    "\n",
    "    instructions[1] = noun\n",
    "    instructions[2] = verb\n",
    "\n",
    "    current_position = 0\n",
    "\n",
    "    while True:\n",
    "        opcode = instructions[current_position]\n",
    "        if opcode == 99:\n",
    "            break\n",
    "        else:\n",
    "            first, second, third = instructions[current_position + 1:current_position + 4]\n",
    "            if opcode == 1:\n",
    "                instructions[third] = instructions[first] + instructions[second]\n",
    "            else:\n",
    "                instructions[third] = instructions[first] * instructions[second]\n",
    "\n",
    "            current_position += 4\n",
    "\n",
    "    return instructions[0]"
   ]
  },
  {
   "cell_type": "code",
   "execution_count": null,
   "metadata": {},
   "outputs": [],
   "source": [
    "for noun in progress(range(100)):\n",
    "    for verb in range(100):\n",
    "        if output(noun, verb) == 19690720:\n",
    "            print(100 * noun + verb)"
   ]
  }
 ],
 "metadata": {
  "kernelspec": {
   "display_name": "Python 3.6",
   "language": "python",
   "name": "python3.6"
  },
  "language_info": {
   "codemirror_mode": {
    "name": "ipython",
    "version": 3
   },
   "file_extension": ".py",
   "mimetype": "text/x-python",
   "name": "python",
   "nbconvert_exporter": "python",
   "pygments_lexer": "ipython3",
   "version": "3.6.9"
  }
 },
 "nbformat": 4,
 "nbformat_minor": 4
}
