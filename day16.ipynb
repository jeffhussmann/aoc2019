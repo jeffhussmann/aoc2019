{
 "cells": [
  {
   "cell_type": "code",
   "execution_count": null,
   "metadata": {},
   "outputs": [],
   "source": [
    "import itertools\n",
    "import functools\n",
    "import multiprocessing"
   ]
  },
  {
   "cell_type": "code",
   "execution_count": null,
   "metadata": {},
   "outputs": [],
   "source": [
    "%load_ext cython"
   ]
  },
  {
   "cell_type": "code",
   "execution_count": null,
   "metadata": {},
   "outputs": [],
   "source": [
    "%%cython\n",
    "\n",
    "cimport cython\n",
    "\n",
    "@cython.boundscheck(False)\n",
    "@cython.wraparound(False)\n",
    "cdef long sum_n_from_i(long[:] c_sums, int i, int n, int l):\n",
    "    cdef long s\n",
    "    cdef int top\n",
    "    if i > l - 1:\n",
    "        s = 0\n",
    "    else:\n",
    "        top = min(i + n, l - 1)\n",
    "        s = c_sums[top] - c_sums[i]\n",
    "    return s\n",
    "\n",
    "def row_sum(long[:] c_sums, int row):\n",
    "    cdef int l = c_sums.size\n",
    "    cdef int block_start, p_start, m_start, step\n",
    "    cdef long total\n",
    "    step = 4 * (row + 1)\n",
    "    total = 0\n",
    "    for block_start from 0 <= block_start < l by step:\n",
    "        p_start = block_start + row\n",
    "        total += sum_n_from_i(c_sums, p_start, row + 1, l)\n",
    "        m_start = block_start + 3 * row + 2\n",
    "        total -= sum_n_from_i(c_sums, m_start, row + 1, l)\n",
    "    return total"
   ]
  },
  {
   "cell_type": "code",
   "execution_count": null,
   "metadata": {},
   "outputs": [],
   "source": [
    "# Both solutions for part 2 only arrived at after looking at hints online."
   ]
  },
  {
   "cell_type": "code",
   "execution_count": null,
   "metadata": {},
   "outputs": [],
   "source": [
    "def load_inputs(fn, num_repeats):\n",
    "    inputs = np.array([int(c) for c in open(fn).read().strip()])\n",
    "    repeated_inputs = np.concatenate([inputs]*num_repeats)\n",
    "    return repeated_inputs\n",
    "\n",
    "def last_digits(vs):\n",
    "    return np.array([int(str(v)[-1]) for v in vs])\n",
    "\n",
    "def apply_FFT(inputs):\n",
    "    c_sums = np.cumsum(np.concatenate([[0], inputs]))\n",
    "    vs = [row_sum(c_sums, i) for i in range(len(inputs))]\n",
    "    return last_digits(vs)"
   ]
  },
  {
   "cell_type": "code",
   "execution_count": null,
   "metadata": {},
   "outputs": [],
   "source": [
    "fn = 'day16.txt'\n",
    "\n",
    "repeated_inputs = load_inputs(fn, 1)\n",
    "\n",
    "offset = 0"
   ]
  },
  {
   "cell_type": "code",
   "execution_count": null,
   "metadata": {},
   "outputs": [],
   "source": [
    "last_vs = repeated_inputs\n",
    "\n",
    "for p in progress(range(100)):\n",
    "    last_vs = apply_FFT(last_vs)\n",
    "\n",
    "print(''.join([str(v) for v in last_vs[offset:offset + 8]]))"
   ]
  },
  {
   "cell_type": "code",
   "execution_count": null,
   "metadata": {},
   "outputs": [],
   "source": [
    "fn = 'day16.txt'\n",
    "\n",
    "repeated_inputs = load_inputs(fn, 10000)\n",
    "offset = int(''.join([str(c) for c in inputs[:7]]))"
   ]
  },
  {
   "cell_type": "code",
   "execution_count": null,
   "metadata": {},
   "outputs": [],
   "source": [
    "last_vs = repeated_inputs\n",
    "\n",
    "for p in progress(range(100)):\n",
    "    last_vs = apply_FFT(last_vs)\n",
    "\n",
    "print(''.join([str(v) for v in last_vs[offset:offset + 8]]))"
   ]
  },
  {
   "cell_type": "code",
   "execution_count": null,
   "metadata": {},
   "outputs": [],
   "source": [
    "# Use the fact that offset is in the second half and FFT matrix is upper triangular all ones in the second half."
   ]
  },
  {
   "cell_type": "code",
   "execution_count": null,
   "metadata": {},
   "outputs": [],
   "source": [
    "fn = 'day16.txt'\n",
    "\n",
    "repeated_inputs = load_inputs(fn, 10000)\n",
    "offset = int(''.join([str(c) for c in inputs[:7]]))\n",
    "repeated_inputs = repeated_inputs[offset:]"
   ]
  },
  {
   "cell_type": "code",
   "execution_count": null,
   "metadata": {},
   "outputs": [],
   "source": [
    "last_vals = repeated_inputs\n",
    "\n",
    "for p in progress(range(100)):\n",
    "    flipped = last_vals[::-1]\n",
    "    cumulative = np.cumsum(flipped)\n",
    "    flipped_back = cumulative[::-1]\n",
    "    last_vals = last_digits(flipped_back)\n",
    "    \n",
    "print(''.join([str(v) for v in last_vals[:8]]))"
   ]
  }
 ],
 "metadata": {
  "kernelspec": {
   "display_name": "Python 3.6",
   "language": "python",
   "name": "python3.6"
  },
  "language_info": {
   "codemirror_mode": {
    "name": "ipython",
    "version": 3
   },
   "file_extension": ".py",
   "mimetype": "text/x-python",
   "name": "python",
   "nbconvert_exporter": "python",
   "pygments_lexer": "ipython3",
   "version": "3.6.9"
  }
 },
 "nbformat": 4,
 "nbformat_minor": 4
}
