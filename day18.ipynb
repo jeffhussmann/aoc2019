{
 "cells": [
  {
   "cell_type": "code",
   "execution_count": null,
   "metadata": {},
   "outputs": [],
   "source": [
    "import sys\n",
    "import functools\n",
    "from collections import deque"
   ]
  },
  {
   "cell_type": "code",
   "execution_count": null,
   "metadata": {},
   "outputs": [],
   "source": [
    "fn = 'day18.txt'"
   ]
  },
  {
   "cell_type": "code",
   "execution_count": null,
   "metadata": {},
   "outputs": [],
   "source": [
    "def load_grid(fn):\n",
    "    grid = {}\n",
    "    \n",
    "    with open(fn) as fh:\n",
    "        for row, line in enumerate(fh):\n",
    "            for col, c in enumerate(line.strip()):\n",
    "                grid[complex(col, row)] = c\n",
    "                if c == '@':\n",
    "                    entrance = complex(col, row)\n",
    "\n",
    "    return grid, entrance"
   ]
  },
  {
   "cell_type": "code",
   "execution_count": null,
   "metadata": {},
   "outputs": [],
   "source": [
    "def draw_grid(grid):\n",
    "    max_x = max(int(p.real) for p in grid)\n",
    "    max_y = max(int(p.imag) for p in grid)\n",
    "    \n",
    "    for row in range(max_y + 1):\n",
    "        for col in range(max_x + 1):\n",
    "            sys.stdout.write(grid[complex(col, row)])\n",
    "        sys.stdout.write('\\n')"
   ]
  },
  {
   "cell_type": "code",
   "execution_count": null,
   "metadata": {},
   "outputs": [],
   "source": [
    "def distances_from(start, grid, keys_available):\n",
    "    distances = {start: 0}\n",
    "    to_check = deque()\n",
    "\n",
    "    to_check.append(start)\n",
    "\n",
    "    while len(to_check) > 0:\n",
    "        position = to_check.popleft()\n",
    "        for direction in [1, -1, 1j, -1j]:\n",
    "            next_position = position + direction\n",
    "            next_distance = distances[position] + 1\n",
    "            next_char = grid[next_position]\n",
    "            \n",
    "            if next_char != '#' and ((not next_char.isupper()) or next_char in keys_available) and next_position not in distances:\n",
    "                distances[next_position] = next_distance\n",
    "                to_check.append(next_position)\n",
    "    \n",
    "    return distances"
   ]
  },
  {
   "cell_type": "code",
   "execution_count": null,
   "metadata": {},
   "outputs": [],
   "source": [
    "def get_options(current_position, grid, keys_available):\n",
    "    accessible = distances_from(current_position, grid, keys_available)\n",
    "    options = {}\n",
    "    for position in accessible:\n",
    "        if position != current_position and grid[position].islower() and grid[position].upper() not in keys_available:\n",
    "            options[grid[position]] = (position, accessible[position])\n",
    "    return options"
   ]
  },
  {
   "cell_type": "code",
   "execution_count": null,
   "metadata": {},
   "outputs": [],
   "source": [
    "@functools.lru_cache(maxsize=None)\n",
    "def shortest_path_from(current_position, keys_available):\n",
    "\n",
    "    options = get_options(current_position, grid, keys_available)\n",
    "\n",
    "    if len(options) == 0:\n",
    "        return 0\n",
    "    \n",
    "    possibilities = []\n",
    "    \n",
    "    for next_key, (next_position, distance_to) in options.items():\n",
    "        new_keys = set(keys_available)\n",
    "        new_keys.add(next_key.upper())\n",
    "        new_keys = tuple(sorted(new_keys))\n",
    "        remaining_distance_from = shortest_path_from(next_position, new_keys)\n",
    "        possibilities.append(distance_to + remaining_distance_from)\n",
    "        \n",
    "    return min(possibilities)"
   ]
  },
  {
   "cell_type": "code",
   "execution_count": null,
   "metadata": {},
   "outputs": [],
   "source": [
    "fn = 'day18.txt'"
   ]
  },
  {
   "cell_type": "code",
   "execution_count": null,
   "metadata": {},
   "outputs": [],
   "source": [
    "%%time\n",
    "\n",
    "grid, entrance = load_grid(fn)\n",
    "\n",
    "print(shortest_path_from(entrance, tuple()))"
   ]
  },
  {
   "cell_type": "code",
   "execution_count": null,
   "metadata": {},
   "outputs": [],
   "source": [
    "def load_grid_part2(fn):\n",
    "    grid = {}\n",
    "    entrances = []\n",
    "    with open(fn) as fh:\n",
    "        for row, line in enumerate(fh):\n",
    "            for col, c in enumerate(line.strip()):\n",
    "                grid[complex(col, row)] = c\n",
    "                if c == '@':\n",
    "                    entrances.append(complex(col, row))\n",
    "\n",
    "    return grid, tuple(entrances)"
   ]
  },
  {
   "cell_type": "code",
   "execution_count": null,
   "metadata": {},
   "outputs": [],
   "source": [
    "def partition_grid(fn):\n",
    "    grid, entrance = load_grid(fn)\n",
    "    entrances = []\n",
    "    grid[entrance] = '#'\n",
    "    for d in [1, -1, 1j, -1j]:\n",
    "        grid[entrance + d] = '#'\n",
    "    for d in [(1 + 1j), (1 - 1j), (-1 + 1j), (-1 - 1j)]:\n",
    "        grid[entrance + d] = '@'\n",
    "        entrances.append(entrance + d)\n",
    "    return grid, tuple(entrances)"
   ]
  },
  {
   "cell_type": "code",
   "execution_count": null,
   "metadata": {},
   "outputs": [],
   "source": [
    "def get_options_multiple(current_positions, grid, keys_available):\n",
    "    options = {}\n",
    "    \n",
    "    for robot, current_position in enumerate(current_positions):\n",
    "        accessible = distances_from(current_position, grid, keys_available)\n",
    "\n",
    "        for position in accessible:\n",
    "            if position != current_position and grid[position].islower() and grid[position].upper() not in keys_available:\n",
    "                options[grid[position]] = (robot, position, accessible[position])\n",
    "    \n",
    "    return options"
   ]
  },
  {
   "cell_type": "code",
   "execution_count": null,
   "metadata": {},
   "outputs": [],
   "source": [
    "@functools.lru_cache(maxsize=None)\n",
    "def shortest_path_from_multiple(current_positions, keys_available):\n",
    "    options = get_options_multiple(current_positions, grid, keys_available)\n",
    "\n",
    "    if len(options) == 0:\n",
    "        return 0\n",
    "    \n",
    "    possibilities = []\n",
    "    \n",
    "    for next_key, (robot, next_position, distance_to) in options.items():\n",
    "        new_keys = set(keys_available)\n",
    "        new_keys.add(next_key.upper())\n",
    "        new_keys = tuple(sorted(new_keys))\n",
    "        \n",
    "        next_positions = list(current_positions)\n",
    "        next_positions[robot] = next_position\n",
    "        next_positions = tuple(next_positions)\n",
    "        \n",
    "        remaining_distance_from = shortest_path_from_multiple(next_positions, new_keys)\n",
    "        possibilities.append(distance_to + remaining_distance_from)\n",
    "\n",
    "    return min(possibilities)"
   ]
  },
  {
   "cell_type": "code",
   "execution_count": null,
   "metadata": {},
   "outputs": [],
   "source": [
    "grid, entrances = load_grid_part2('day18_part2_test2.txt')\n",
    "\n",
    "print(shortest_path_from_multiple(entrances, tuple()))"
   ]
  },
  {
   "cell_type": "code",
   "execution_count": null,
   "metadata": {},
   "outputs": [],
   "source": [
    "%%time\n",
    "\n",
    "grid, entrances = partition_grid('day18.txt')\n",
    "\n",
    "shortest_path_from_multiple.cache_clear()\n",
    "print(shortest_path_from_multiple(entrances, ()))"
   ]
  }
 ],
 "metadata": {
  "kernelspec": {
   "display_name": "Python 3.6",
   "language": "python",
   "name": "python3.6"
  },
  "language_info": {
   "codemirror_mode": {
    "name": "ipython",
    "version": 3
   },
   "file_extension": ".py",
   "mimetype": "text/x-python",
   "name": "python",
   "nbconvert_exporter": "python",
   "pygments_lexer": "ipython3",
   "version": "3.6.9"
  }
 },
 "nbformat": 4,
 "nbformat_minor": 4
}
