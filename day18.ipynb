{
 "cells": [
  {
   "cell_type": "code",
   "execution_count": null,
   "metadata": {},
   "outputs": [],
   "source": [
    "from collections import deque"
   ]
  },
  {
   "cell_type": "code",
   "execution_count": null,
   "metadata": {},
   "outputs": [],
   "source": [
    "fn = 'day18.txt'"
   ]
  },
  {
   "cell_type": "code",
   "execution_count": null,
   "metadata": {},
   "outputs": [],
   "source": [
    "def load_grid(fn):\n",
    "    grid = {}\n",
    "    \n",
    "    with open(fn) as fh:\n",
    "        for row, line in enumerate(fh):\n",
    "            for col, c in enumerate(line.strip()):\n",
    "                grid[complex(col, row)] = c\n",
    "                if c == '@':\n",
    "                    entrance = complex(col, row)\n",
    "\n",
    "    return grid, entrance"
   ]
  },
  {
   "cell_type": "code",
   "execution_count": null,
   "metadata": {},
   "outputs": [],
   "source": [
    "import sys"
   ]
  },
  {
   "cell_type": "code",
   "execution_count": null,
   "metadata": {},
   "outputs": [],
   "source": [
    "def draw_grid(grid):\n",
    "    max_x = max(int(p.real) for p in grid)\n",
    "    max_y = max(int(p.imag) for p in grid)\n",
    "    \n",
    "    for row in range(max_y + 1):\n",
    "        for col in range(max_x + 1):\n",
    "            sys.stdout.write(grid[complex(col, row)])\n",
    "        sys.stdout.write('\\n')"
   ]
  },
  {
   "cell_type": "code",
   "execution_count": null,
   "metadata": {},
   "outputs": [],
   "source": [
    "def distances_from(start, grid, keys_available):\n",
    "    distances = {start: 0}\n",
    "    to_check = deque()\n",
    "\n",
    "    to_check.append(start)\n",
    "\n",
    "    while len(to_check) > 0:\n",
    "        position = to_check.popleft()\n",
    "        for direction in [1, -1, 1j, -1j]:\n",
    "            next_position = position + direction\n",
    "            next_distance = distances[position] + 1\n",
    "            next_char = grid[next_position]\n",
    "            \n",
    "            if next_char != '#' and ((not next_char.isupper()) or next_char in keys_available) and next_position not in distances:\n",
    "                distances[next_position] = next_distance\n",
    "                to_check.append(next_position)\n",
    "    \n",
    "    return distances"
   ]
  },
  {
   "cell_type": "code",
   "execution_count": null,
   "metadata": {},
   "outputs": [],
   "source": [
    "def get_options(current_position, grid, keys_available):\n",
    "    accessible = distances_from(current_position, grid, keys_available)\n",
    "    options = {}\n",
    "    for position in accessible:\n",
    "        if position != current_position and grid[position].islower() and grid[position].upper() not in keys_available:\n",
    "            options[grid[position]] = (position, accessible[position])\n",
    "    return options"
   ]
  },
  {
   "cell_type": "code",
   "execution_count": null,
   "metadata": {},
   "outputs": [],
   "source": [
    "def shortest_path(grid, current_position, keys_available, progress_bar, distance_so_far, best_so_far):\n",
    "    progress_bar.update()\n",
    "    options = get_options(current_position, grid, keys_available)\n",
    "\n",
    "    if len(options) == 0:\n",
    "        return distance_so_far\n",
    "    \n",
    "    possibilities = []\n",
    "    \n",
    "    for next_key, (next_position, distance_to) in options.items():\n",
    "        new_keys = keys_available.copy()\n",
    "        new_keys.add(next_key.upper())\n",
    "        next_distance_so_far = distance_so_far + distance_to\n",
    "        \n",
    "        so_far_hash = (next_position, tuple(sorted(new_keys)))\n",
    "        if next_distance_so_far < best_so_far.get(so_far_hash, np.inf):\n",
    "            best_so_far[so_far_hash] = next_distance_so_far\n",
    "            total_distance = shortest_path(grid, next_position, new_keys, p, next_distance_so_far, best_so_far)\n",
    "            possibilities.append(total_distance)\n",
    "            \n",
    "    if len(possibilities) == 0:\n",
    "        return np.inf\n",
    "    else:\n",
    "        return min(possibilities)"
   ]
  },
  {
   "cell_type": "code",
   "execution_count": null,
   "metadata": {},
   "outputs": [],
   "source": [
    "fn = 'day18.txt'"
   ]
  },
  {
   "cell_type": "code",
   "execution_count": null,
   "metadata": {},
   "outputs": [],
   "source": [
    "grid, entrance = load_grid(fn)\n",
    "p = progress()\n",
    "best_so_far = {}\n",
    "shortest_path(grid, entrance, set(), p, 0, best_so_far)"
   ]
  },
  {
   "cell_type": "code",
   "execution_count": null,
   "metadata": {},
   "outputs": [],
   "source": [
    "def load_grid_part2(fn):\n",
    "    grid = {}\n",
    "    entrances = []\n",
    "    with open(fn) as fh:\n",
    "        for row, line in enumerate(fh):\n",
    "            for col, c in enumerate(line.strip()):\n",
    "                grid[complex(col, row)] = c\n",
    "                if c == '@':\n",
    "                    entrances.append(complex(col, row))\n",
    "\n",
    "    return grid, entrances"
   ]
  },
  {
   "cell_type": "code",
   "execution_count": null,
   "metadata": {},
   "outputs": [],
   "source": [
    "def partition_grid(fn):\n",
    "    grid, entrance = load_grid(fn)\n",
    "    entrances = []\n",
    "    grid[entrance] = '#'\n",
    "    for d in [1, -1, 1j, -1j]:\n",
    "        grid[entrance + d] = '#'\n",
    "    for d in [(1 + 1j), (1 - 1j), (-1 + 1j), (-1 - 1j)]:\n",
    "        grid[entrance + d] = '@'\n",
    "        entrances.append(entrance + d)\n",
    "    return grid, entrances"
   ]
  },
  {
   "cell_type": "code",
   "execution_count": null,
   "metadata": {},
   "outputs": [],
   "source": [
    "grid, entrances = partition_grid('day18.txt')"
   ]
  },
  {
   "cell_type": "code",
   "execution_count": null,
   "metadata": {},
   "outputs": [],
   "source": [
    "def get_options_multiple(current_positions, grid, keys_available):\n",
    "    options = {}\n",
    "    \n",
    "    for robot, current_position in enumerate(current_positions):\n",
    "        accessible = distances_from(current_position, grid, keys_available)\n",
    "\n",
    "        for position in accessible:\n",
    "            if position != current_position and grid[position].islower() and grid[position].upper() not in keys_available:\n",
    "                options[grid[position]] = (robot, position, accessible[position])\n",
    "    \n",
    "    return options"
   ]
  },
  {
   "cell_type": "code",
   "execution_count": null,
   "metadata": {},
   "outputs": [],
   "source": [
    "def shortest_path_multiple(grid, current_positions, keys_available, progress_bar, distance_so_far, best_so_far):\n",
    "    progress_bar.update()\n",
    "    options = get_options_multiple(current_positions, grid, keys_available)\n",
    "\n",
    "    if len(options) == 0:\n",
    "        return distance_so_far\n",
    "    \n",
    "    possibilities = []\n",
    "    \n",
    "    for next_key, (robot, next_position, distance_to) in options.items():\n",
    "        new_keys = keys_available.copy()\n",
    "        new_keys.add(next_key.upper())\n",
    "        next_distance_so_far = distance_so_far + distance_to\n",
    "        \n",
    "        next_positions = current_positions.copy()\n",
    "        next_positions[robot] = next_position\n",
    "        \n",
    "        so_far_hash = (tuple(next_positions), tuple(sorted(new_keys)))\n",
    "        if next_distance_so_far < best_so_far.get(so_far_hash, np.inf):\n",
    "            best_so_far[so_far_hash] = next_distance_so_far\n",
    "        \n",
    "            total_distance = shortest_path_multiple(grid, next_positions, new_keys, progress_bar, next_distance_so_far, best_so_far)\n",
    "            possibilities.append(total_distance)\n",
    "            \n",
    "    if len(possibilities) == 0:\n",
    "        return np.inf\n",
    "    else:\n",
    "        return min(possibilities)"
   ]
  },
  {
   "cell_type": "code",
   "execution_count": null,
   "metadata": {},
   "outputs": [],
   "source": [
    "grid, entrances = load_grid_part2('day18_part2_test2.txt')\n",
    "\n",
    "p = progress()\n",
    "shortest_path_multiple(grid, entrances, set(), p, 0, {})"
   ]
  },
  {
   "cell_type": "code",
   "execution_count": null,
   "metadata": {},
   "outputs": [],
   "source": [
    "grid, entrances = partition_grid('day18.txt')\n",
    "\n",
    "p = progress()\n",
    "shortest_path_multiple(grid, entrances, set(), p, 0, {})"
   ]
  }
 ],
 "metadata": {
  "kernelspec": {
   "display_name": "Python 3.6",
   "language": "python",
   "name": "python3.6"
  },
  "language_info": {
   "codemirror_mode": {
    "name": "ipython",
    "version": 3
   },
   "file_extension": ".py",
   "mimetype": "text/x-python",
   "name": "python",
   "nbconvert_exporter": "python",
   "pygments_lexer": "ipython3",
   "version": "3.6.9"
  }
 },
 "nbformat": 4,
 "nbformat_minor": 4
}
