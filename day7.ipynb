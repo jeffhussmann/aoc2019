{
 "cells": [
  {
   "cell_type": "code",
   "execution_count": null,
   "metadata": {},
   "outputs": [],
   "source": [
    "import intcode\n",
    "\n",
    "import itertools"
   ]
  },
  {
   "cell_type": "code",
   "execution_count": null,
   "metadata": {},
   "outputs": [],
   "source": [
    "def run_part_1(phases):\n",
    "    fn = 'day7.txt'\n",
    "\n",
    "    names = 'ABCDE'\n",
    "\n",
    "    connections = [\n",
    "        (None, 'A'),\n",
    "        ('A', 'B'),\n",
    "        ('B', 'C'),\n",
    "        ('C', 'D'),\n",
    "        ('D', 'E'),\n",
    "        ('E', None),\n",
    "    ]\n",
    "    \n",
    "    threads, inputs, outputs = intcode.connect_processors(fn, names, connections)\n",
    "\n",
    "    for name, phase in zip(names, phases):\n",
    "        inputs[name].put(phase)\n",
    "\n",
    "    inputs['A'].put(0)\n",
    "\n",
    "    for t in threads.values():\n",
    "        t.join()\n",
    "\n",
    "    return outputs['E'].get()"
   ]
  },
  {
   "cell_type": "code",
   "execution_count": null,
   "metadata": {},
   "outputs": [],
   "source": [
    "perms = itertools.permutations(range(5))\n",
    "print('part 1', max(run_part_1(phases) for phases in perms))"
   ]
  },
  {
   "cell_type": "code",
   "execution_count": null,
   "metadata": {},
   "outputs": [],
   "source": [
    "def run_part_2(phases):\n",
    "    fn = 'day7.txt'\n",
    "\n",
    "    names = 'ABCDE'\n",
    "\n",
    "    connections = [\n",
    "        ('E', 'A'),\n",
    "        ('A', 'B'),\n",
    "        ('B', 'C'),\n",
    "        ('C', 'D'),\n",
    "        ('D', 'E'),\n",
    "        ('E', 'A'),\n",
    "    ]\n",
    "    \n",
    "    threads, inputs, outputs = intcode.connect_processors(fn, names, connections)\n",
    "\n",
    "    for name, phase in zip(names, phases):\n",
    "        inputs[name].put(phase)\n",
    "\n",
    "    inputs['A'].put(0)\n",
    "\n",
    "    for t in threads.values():\n",
    "        t.join()\n",
    "\n",
    "    return outputs['E'].get()"
   ]
  },
  {
   "cell_type": "code",
   "execution_count": null,
   "metadata": {},
   "outputs": [],
   "source": [
    "perms = itertools.permutations(range(5, 10))\n",
    "print('part 2', max(run_part_2(phases) for phases in perms))"
   ]
  }
 ],
 "metadata": {
  "kernelspec": {
   "display_name": "Python 3.6",
   "language": "python",
   "name": "python3.6"
  },
  "language_info": {
   "codemirror_mode": {
    "name": "ipython",
    "version": 3
   },
   "file_extension": ".py",
   "mimetype": "text/x-python",
   "name": "python",
   "nbconvert_exporter": "python",
   "pygments_lexer": "ipython3",
   "version": "3.6.9"
  }
 },
 "nbformat": 4,
 "nbformat_minor": 4
}
