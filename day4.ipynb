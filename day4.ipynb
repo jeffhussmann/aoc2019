{
 "cells": [
  {
   "cell_type": "code",
   "execution_count": null,
   "metadata": {},
   "outputs": [],
   "source": [
    "lower = 178416\n",
    "upper = 676461"
   ]
  },
  {
   "cell_type": "code",
   "execution_count": null,
   "metadata": {},
   "outputs": [],
   "source": [
    "def valid(num):\n",
    "    adjacent = False\n",
    "    decreases = False\n",
    "    s = list(str(num))\n",
    "    for first, second in zip(s, s[1:]):\n",
    "        if first == second:\n",
    "            adjacent = True\n",
    "        if second < first:\n",
    "            decreases = True\n",
    "    return adjacent and not decreases"
   ]
  },
  {
   "cell_type": "code",
   "execution_count": null,
   "metadata": {},
   "outputs": [],
   "source": [
    "sum(valid(num) for num in progress(range(lower, upper + 1)))"
   ]
  },
  {
   "cell_type": "code",
   "execution_count": null,
   "metadata": {},
   "outputs": [],
   "source": [
    "import itertools"
   ]
  },
  {
   "cell_type": "code",
   "execution_count": null,
   "metadata": {},
   "outputs": [],
   "source": [
    "def valid(num):\n",
    "    last_digit = -1\n",
    "    decreases = False\n",
    "    double = False\n",
    "    digits = [int(s) for s in str(num)]\n",
    "    for digit, copies in itertools.groupby(digits):\n",
    "        if digit < last_digit:\n",
    "            decreases = True\n",
    "        if len(list(copies)) == 2:\n",
    "            double = True\n",
    "            \n",
    "        last_digit = digit\n",
    "\n",
    "    return double and not decreases"
   ]
  },
  {
   "cell_type": "code",
   "execution_count": null,
   "metadata": {},
   "outputs": [],
   "source": [
    "sum(valid(num) for num in progress(range(lower, upper + 1)))"
   ]
  },
  {
   "cell_type": "code",
   "execution_count": null,
   "metadata": {},
   "outputs": [],
   "source": [
    "from collections import Counter"
   ]
  },
  {
   "cell_type": "code",
   "execution_count": null,
   "metadata": {},
   "outputs": [],
   "source": [
    "def valid(num):\n",
    "    digits = [int(s) for s in str(num)]\n",
    "    if digits != sorted(digits):\n",
    "        return False\n",
    "    return any(v == 2 for v in Counter(digits).values())"
   ]
  },
  {
   "cell_type": "code",
   "execution_count": null,
   "metadata": {},
   "outputs": [],
   "source": [
    "sum(valid(num) for num in progress(range(lower, upper + 1)))"
   ]
  }
 ],
 "metadata": {
  "kernelspec": {
   "display_name": "Python 3.6",
   "language": "python",
   "name": "python3.6"
  },
  "language_info": {
   "codemirror_mode": {
    "name": "ipython",
    "version": 3
   },
   "file_extension": ".py",
   "mimetype": "text/x-python",
   "name": "python",
   "nbconvert_exporter": "python",
   "pygments_lexer": "ipython3",
   "version": "3.6.9"
  }
 },
 "nbformat": 4,
 "nbformat_minor": 4
}
