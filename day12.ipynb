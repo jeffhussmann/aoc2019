{
 "cells": [
  {
   "cell_type": "code",
   "execution_count": null,
   "metadata": {},
   "outputs": [],
   "source": [
    "import itertools\n",
    "import functools"
   ]
  },
  {
   "cell_type": "code",
   "execution_count": null,
   "metadata": {},
   "outputs": [],
   "source": [
    "def read_input(fn):\n",
    "    all_vals = []\n",
    "    for line in open(fn):\n",
    "        fields = line.strip().split()\n",
    "        vals = [int(field.strip(',>').lstrip('<xyz=')) for field in fields]\n",
    "        all_vals.append(vals)\n",
    "    return np.array(all_vals)"
   ]
  },
  {
   "cell_type": "code",
   "execution_count": null,
   "metadata": {},
   "outputs": [],
   "source": [
    "# Time is reversible, so only need to check when returns to initial state."
   ]
  },
  {
   "cell_type": "code",
   "execution_count": null,
   "metadata": {},
   "outputs": [],
   "source": [
    "def period_of_dimension(d):\n",
    "    positions = read_input('day12.txt')[:, d]\n",
    "    velocities = np.zeros_like(positions)\n",
    "    \n",
    "    initial_positions, initial_velocities = positions.copy(), velocities.copy()\n",
    "    \n",
    "    for step in progress(itertools.count()):\n",
    "        if step != 0 and np.allclose(positions, initial_positions) and np.allclose(velocities, initial_velocities):\n",
    "            return step\n",
    "        \n",
    "        accelerations = np.array([np.sign(positions - positions[i]).sum() for i in range(len(positions))])\n",
    "        velocities += accelerations\n",
    "        positions += velocities"
   ]
  },
  {
   "cell_type": "code",
   "execution_count": null,
   "metadata": {},
   "outputs": [],
   "source": [
    "functools.reduce(np.lcm, [period_of_dimension(d) for d in range(3)], 1)"
   ]
  },
  {
   "cell_type": "code",
   "execution_count": null,
   "metadata": {},
   "outputs": [],
   "source": [
    "def steps(num_steps):\n",
    "    fingerprints = set()\n",
    "    positions = read_input('day12.txt')\n",
    "    velocities = np.zeros_like(positions)\n",
    "    for i in progress(range(num_steps)):\n",
    "        for r in range(len(positions)):\n",
    "            for c in range(3):\n",
    "                velocities[r, c] += (positions[:, c] > positions[r, c]).sum() - (positions[:, c] < positions[r, c]).sum()\n",
    "        positions += velocities\n",
    "    \n",
    "    return positions, velocities"
   ]
  },
  {
   "cell_type": "code",
   "execution_count": null,
   "metadata": {},
   "outputs": [],
   "source": [
    "p, v = steps(1000)"
   ]
  },
  {
   "cell_type": "code",
   "execution_count": null,
   "metadata": {},
   "outputs": [],
   "source": [
    "(np.abs(p).sum(axis=1) * np.abs(v).sum(axis=1)).sum()"
   ]
  }
 ],
 "metadata": {
  "kernelspec": {
   "display_name": "Python 3.6",
   "language": "python",
   "name": "python3.6"
  },
  "language_info": {
   "codemirror_mode": {
    "name": "ipython",
    "version": 3
   },
   "file_extension": ".py",
   "mimetype": "text/x-python",
   "name": "python",
   "nbconvert_exporter": "python",
   "pygments_lexer": "ipython3",
   "version": "3.6.9"
  }
 },
 "nbformat": 4,
 "nbformat_minor": 4
}
