{
 "cells": [
  {
   "cell_type": "code",
   "execution_count": null,
   "metadata": {},
   "outputs": [],
   "source": [
    "import intcode\n",
    "import sys"
   ]
  },
  {
   "cell_type": "code",
   "execution_count": null,
   "metadata": {},
   "outputs": [],
   "source": [
    "direction_output_to_multiple = {\n",
    "    0: 1j,\n",
    "    1: -1j,\n",
    "}"
   ]
  },
  {
   "cell_type": "code",
   "execution_count": null,
   "metadata": {},
   "outputs": [],
   "source": [
    "def grid_from_starting_color(starting_color):\n",
    "    thread, inputs, outputs = intcode.standalone_processer('day11.txt')\n",
    "\n",
    "    position = 0j\n",
    "    direction = 1j\n",
    "\n",
    "    grid = {0j: starting_color}\n",
    "\n",
    "    while thread.is_alive():\n",
    "        inputs.put(grid.get(position, 0))\n",
    "        grid[position] = outputs.get()\n",
    "        direction *= direction_output_to_multiple[outputs.get()]   \n",
    "        position += direction\n",
    "        \n",
    "    return grid"
   ]
  },
  {
   "cell_type": "code",
   "execution_count": null,
   "metadata": {},
   "outputs": [],
   "source": [
    "len(grid_from_starting_color(0))"
   ]
  },
  {
   "cell_type": "code",
   "execution_count": null,
   "metadata": {},
   "outputs": [],
   "source": [
    "def draw_grid(grid):\n",
    "    xs = [int(p.real) for p in grid]\n",
    "    ys = [int(p.imag) for p in grid]\n",
    "    for y in range(max(ys), min(ys) - 1, -1):\n",
    "        for x in range(min(xs), max(xs) + 1):\n",
    "            if grid.get(complex(x, y), 0) == 1:\n",
    "                sys.stdout.write('#')\n",
    "            else:\n",
    "                sys.stdout.write(' ')\n",
    "        sys.stdout.write('\\n')"
   ]
  },
  {
   "cell_type": "code",
   "execution_count": null,
   "metadata": {},
   "outputs": [],
   "source": [
    "draw_grid(grid_from_starting_color(1))"
   ]
  }
 ],
 "metadata": {
  "kernelspec": {
   "display_name": "Python 3.6",
   "language": "python",
   "name": "python3.6"
  },
  "language_info": {
   "codemirror_mode": {
    "name": "ipython",
    "version": 3
   },
   "file_extension": ".py",
   "mimetype": "text/x-python",
   "name": "python",
   "nbconvert_exporter": "python",
   "pygments_lexer": "ipython3",
   "version": "3.6.9"
  }
 },
 "nbformat": 4,
 "nbformat_minor": 4
}
