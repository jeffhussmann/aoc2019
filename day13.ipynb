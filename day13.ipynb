{
 "cells": [
  {
   "cell_type": "code",
   "execution_count": null,
   "metadata": {},
   "outputs": [],
   "source": [
    "fn = 'day13.txt'"
   ]
  },
  {
   "cell_type": "code",
   "execution_count": null,
   "metadata": {},
   "outputs": [],
   "source": [
    "import intcode"
   ]
  },
  {
   "cell_type": "code",
   "execution_count": null,
   "metadata": {},
   "outputs": [],
   "source": [
    "thread, inputs, outputs, needs_input = intcode.standalone_processer(fn)\n",
    "\n",
    "needs_input.wait()\n",
    "\n",
    "block_count = 0\n",
    "\n",
    "while not outputs.empty():\n",
    "    x = int(outputs.get())\n",
    "    y = int(outputs.get())\n",
    "    tile_id = outputs.get()\n",
    "\n",
    "    if tile_id == 2:\n",
    "        block_count += 1\n",
    "\n",
    "print(block_count)"
   ]
  },
  {
   "cell_type": "code",
   "execution_count": null,
   "metadata": {},
   "outputs": [],
   "source": [
    "thread, inputs, outputs, needs_input = intcode.standalone_processer(fn, memory_overrides={0: 2})\n",
    "\n",
    "score = 0\n",
    "ball_x = 0\n",
    "paddle_x = 0\n",
    "\n",
    "p = progress()\n",
    "\n",
    "while thread.is_alive():\n",
    "    needs_input.wait()\n",
    "    needs_input.clear()\n",
    "    p.update(score - p.n)\n",
    "    \n",
    "    while not outputs.empty():\n",
    "        x = int(outputs.get())\n",
    "        y = int(outputs.get())\n",
    "        tile_id = outputs.get()\n",
    "\n",
    "        if x == -1 and y == 0:\n",
    "            score = tile_id\n",
    "        else:\n",
    "            if tile_id == 4:\n",
    "                ball_x = x\n",
    "            elif tile_id == 3:\n",
    "                paddle_x = x\n",
    "    \n",
    "    if paddle_x < ball_x:\n",
    "        inp = 1\n",
    "    elif paddle_x > ball_x:\n",
    "        inp = -1\n",
    "    else:\n",
    "        inp = 0\n",
    "    \n",
    "    inputs.put(inp)\n",
    "    \n",
    "p.close()\n",
    "print(score)"
   ]
  }
 ],
 "metadata": {
  "kernelspec": {
   "display_name": "Python 3.6",
   "language": "python",
   "name": "python3.6"
  },
  "language_info": {
   "codemirror_mode": {
    "name": "ipython",
    "version": 3
   },
   "file_extension": ".py",
   "mimetype": "text/x-python",
   "name": "python",
   "nbconvert_exporter": "python",
   "pygments_lexer": "ipython3",
   "version": "3.6.9"
  }
 },
 "nbformat": 4,
 "nbformat_minor": 4
}
