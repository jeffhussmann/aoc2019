{
 "cells": [
  {
   "cell_type": "code",
   "execution_count": null,
   "metadata": {},
   "outputs": [],
   "source": [
    "import intcode"
   ]
  },
  {
   "cell_type": "code",
   "execution_count": null,
   "metadata": {},
   "outputs": [],
   "source": [
    "def load_grid():\n",
    "    p = intcode.Program(instructions_source='day17.txt')\n",
    "    p.run()\n",
    "    outputs = p.output_queue.vals\n",
    "    \n",
    "    r = 0\n",
    "    c = 0\n",
    "    \n",
    "    grid = {}\n",
    "    \n",
    "    for v in outputs:\n",
    "        if v == 10:\n",
    "            r += 1\n",
    "            c = 0\n",
    "        else:\n",
    "            grid[complex(c, r)] = chr(v)\n",
    "            if chr(v) == '^':\n",
    "                current_position = complex(c, r)\n",
    "            c += 1\n",
    "\n",
    "    current_direction = -1j\n",
    "    \n",
    "    return grid, current_position, current_direction"
   ]
  },
  {
   "cell_type": "code",
   "execution_count": null,
   "metadata": {},
   "outputs": [],
   "source": [
    "directions = [1, -1, 1j, -1j]"
   ]
  },
  {
   "cell_type": "code",
   "execution_count": null,
   "metadata": {},
   "outputs": [],
   "source": [
    "grid, current_position, current_direction = load_grid()"
   ]
  },
  {
   "cell_type": "code",
   "execution_count": null,
   "metadata": {},
   "outputs": [],
   "source": [
    "sum(int(p.real * p.imag) for p in grid if grid[p] == '#' and all(grid.get(p + d) == '#' for d in directions))"
   ]
  },
  {
   "cell_type": "code",
   "execution_count": null,
   "metadata": {},
   "outputs": [],
   "source": [
    "def find_next_direction(current_position, current_direction):\n",
    "    for possible_direction in directions:\n",
    "        if possible_direction == -current_direction:\n",
    "            # the way we came from\n",
    "            continue\n",
    "        if grid.get(current_position + possible_direction) == '#':\n",
    "            return possible_direction\n",
    "    return None"
   ]
  },
  {
   "cell_type": "code",
   "execution_count": null,
   "metadata": {},
   "outputs": [],
   "source": [
    "# Note: these are flipped because increasing y is down.\n",
    "\n",
    "direction_to_turn = {\n",
    "    1j: 'R',\n",
    "    -1j: 'L',\n",
    "}"
   ]
  },
  {
   "cell_type": "code",
   "execution_count": null,
   "metadata": {},
   "outputs": [],
   "source": [
    "grid, current_position, current_direction = load_grid()\n",
    "\n",
    "move_order = []\n",
    "\n",
    "while True:\n",
    "    next_direction = None\n",
    "    for possible_direction in directions:\n",
    "        if possible_direction == -current_direction:\n",
    "            # the way we came from\n",
    "            continue\n",
    "        if grid.get(current_position + possible_direction) == '#':\n",
    "            next_direction = possible_direction\n",
    "    \n",
    "    if next_direction is None:\n",
    "        # end of the road\n",
    "        break\n",
    "        \n",
    "    move_starts_at = current_position\n",
    "    \n",
    "    next_turn = direction_to_turn[next_direction / current_direction]\n",
    "    current_direction = next_direction\n",
    "    \n",
    "    while grid.get(current_position + current_direction) == '#':\n",
    "        current_position += current_direction\n",
    "        \n",
    "    move_ends_at = current_position\n",
    "    \n",
    "    length = (move_ends_at - move_starts_at) / current_direction\n",
    "    length = int(length.real)\n",
    "        \n",
    "    move_order.append((next_turn, length))"
   ]
  },
  {
   "cell_type": "code",
   "execution_count": null,
   "metadata": {},
   "outputs": [],
   "source": [
    "def sequence_to_string(sequence):\n",
    "    cs = []\n",
    "    for turn, distance in sequence:\n",
    "        cs.append(f'{turn},{distance}')\n",
    "    return ','.join(cs)"
   ]
  },
  {
   "cell_type": "code",
   "execution_count": null,
   "metadata": {},
   "outputs": [],
   "source": [
    "start_to_seqs = defaultdict(list)\n",
    "seq_to_starts = defaultdict(list)\n",
    "\n",
    "for start in range(len(move_order)):\n",
    "    for seq_length in range(1, len(move_order)):\n",
    "        if start + seq_length <= len(move_order):\n",
    "            seq = tuple(move_order[start:start + seq_length])\n",
    "            seq_str = sequence_to_string(seq)\n",
    "            if len(seq_str) <= 20:    \n",
    "                start_to_seqs[start].append(seq)\n",
    "                seq_to_starts[seq].append(start)"
   ]
  },
  {
   "cell_type": "code",
   "execution_count": null,
   "metadata": {},
   "outputs": [],
   "source": [
    "def possible_As():\n",
    "    return start_to_seqs[0]"
   ]
  },
  {
   "cell_type": "code",
   "execution_count": null,
   "metadata": {},
   "outputs": [],
   "source": [
    "def possible_Bs(A):\n",
    "    B_start = len(A)\n",
    "    while B_start in seq_to_starts[A]:\n",
    "        B_start += len(A)\n",
    "    return start_to_seqs[B_start]"
   ]
  },
  {
   "cell_type": "code",
   "execution_count": null,
   "metadata": {},
   "outputs": [],
   "source": [
    "def possible_Cs(A, B):\n",
    "    B_start = len(A)\n",
    "    while B_start in seq_to_starts[A]:\n",
    "        B_start += len(A)\n",
    "    C_start = B_start + len(B)\n",
    "    while C_start in seq_to_starts[A] or C_start in seq_to_starts[B]:\n",
    "        if C_start in seq_to_starts[A]:\n",
    "            C_start += len(A)\n",
    "        else:\n",
    "            C_start += len(B)\n",
    "    return start_to_seqs[C_start]"
   ]
  },
  {
   "cell_type": "code",
   "execution_count": null,
   "metadata": {},
   "outputs": [],
   "source": [
    "def covers(A, B, C):\n",
    "    i = 0\n",
    "    sub_order = []\n",
    "    while True:\n",
    "        if i in seq_to_starts[A]:\n",
    "            sub_order.append('A')\n",
    "            i += len(A)\n",
    "            continue\n",
    "        if i in seq_to_starts[B]:\n",
    "            sub_order.append('B')\n",
    "            i += len(B)\n",
    "            continue\n",
    "        if i in seq_to_starts[C]:\n",
    "            sub_order.append('C')\n",
    "            i += len(C)\n",
    "            continue\n",
    "        break\n",
    "    if i == len(move_order):\n",
    "        return sub_order\n",
    "    else:\n",
    "        return False"
   ]
  },
  {
   "cell_type": "code",
   "execution_count": null,
   "metadata": {},
   "outputs": [],
   "source": [
    "for A in possible_As():\n",
    "    for B in possible_Bs(A):\n",
    "        for C in possible_Cs(A, B):\n",
    "            possible_sub_order = covers(A, B, C)\n",
    "            if possible_sub_order:\n",
    "                sub_order = possible_sub_order\n",
    "                subroutines = {'A': A, 'B': B, 'C': C}"
   ]
  },
  {
   "cell_type": "code",
   "execution_count": null,
   "metadata": {},
   "outputs": [],
   "source": [
    "main_routine = ','.join(sub_order)\n",
    "subroutine_strings = '\\n'.join([sequence_to_string(subroutines[which]) for which in 'ABC'])\n",
    "no_output = 'n\\n'\n",
    "whole_program = '\\n'.join([main_routine, subroutine_strings, no_output])\n",
    "ascii_program = [ord(c) for c in whole_program]"
   ]
  },
  {
   "cell_type": "code",
   "execution_count": null,
   "metadata": {},
   "outputs": [],
   "source": [
    "p = intcode.Program(instructions_source='day17.txt', input_queue=ascii_program.copy(), memory_overrides={0: 2})\n",
    "\n",
    "p.run()\n",
    "\n",
    "p.output_queue.vals[-1]"
   ]
  }
 ],
 "metadata": {
  "kernelspec": {
   "display_name": "Python 3.6",
   "language": "python",
   "name": "python3.6"
  },
  "language_info": {
   "codemirror_mode": {
    "name": "ipython",
    "version": 3
   },
   "file_extension": ".py",
   "mimetype": "text/x-python",
   "name": "python",
   "nbconvert_exporter": "python",
   "pygments_lexer": "ipython3",
   "version": "3.6.9"
  }
 },
 "nbformat": 4,
 "nbformat_minor": 4
}
